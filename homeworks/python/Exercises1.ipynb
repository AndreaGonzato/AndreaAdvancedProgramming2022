{
 "cells": [
  {
   "cell_type": "markdown",
   "metadata": {},
   "source": [
    "### **Exercise 1:**\n",
    "The Recamán sequence is a famous sequence invented by the Colombian mathematician, Bernardo Recamán Santos. It is defined by the following algorithm, starting at $a_0=0$:\n",
    "\n",
    "$ a_n=a_{n-1}−n$ if $a_{n-1}-n > 0  $ and has not already appeared in the sequence; \n",
    "\n",
    "$ a_n=a_{n−1}+n$ otherwise\n",
    "\n",
    "Write a function that returns the first N elements of this sequence."
   ]
  },
  {
   "cell_type": "code",
   "execution_count": 16,
   "outputs": [
    {
     "name": "stdout",
     "output_type": "stream",
     "text": [
      "[0, 1, 3, 6, 2, 7, 13, 20, 12, 21, 11, 22, 10, 23, 9, 24, 8, 25, 43, 62]\n"
     ]
    }
   ],
   "source": [
    "def calculateRecmanSequence(n):\n",
    "    output = [0]\n",
    "\n",
    "    for i in range(1, n):\n",
    "        temp = output[-1] - i\n",
    "        if temp > 0 and temp not in set(output):\n",
    "            output.append(temp)\n",
    "        else:\n",
    "            output.append(output[-1] + i)\n",
    "\n",
    "    return output\n",
    "\n",
    "n = 20\n",
    "print(calculateRecmanSequence(n))\n",
    "\n"
   ],
   "metadata": {
    "collapsed": false
   }
  },
  {
   "cell_type": "markdown",
   "metadata": {},
   "source": [
    "### **Exercise 2:**\n",
    "Write a function to solve a quadratic equation."
   ]
  },
  {
   "cell_type": "code",
   "execution_count": 27,
   "outputs": [],
   "source": [
    "import math"
   ],
   "metadata": {
    "collapsed": false
   }
  },
  {
   "cell_type": "code",
   "execution_count": 28,
   "outputs": [
    {
     "name": "stdout",
     "output_type": "stream",
     "text": [
      "((-1+1.4142135623730951j), (-1-1.4142135623730951j))\n"
     ]
    }
   ],
   "source": [
    "def solveQuadraticEquation(a, b, c):\n",
    "    delta = b**2 -4 * a * c;\n",
    "    if delta > 0:\n",
    "        x1 = (-b + math.sqrt(delta) )/ (2 * a)\n",
    "        x2 = (-b - math.sqrt(delta)) / (2 * a)\n",
    "    else:\n",
    "        delta = delta * -1\n",
    "\n",
    "        x1 = (-b + math.sqrt(delta) * 1j ) / (2 * a)\n",
    "        x2 = (-b - math.sqrt(delta) * 1j ) / (2 * a)\n",
    "\n",
    "    return x1, x2\n",
    "\n",
    "print(solveQuadraticEquation(1,2,3))"
   ],
   "metadata": {
    "collapsed": false
   }
  },
  {
   "cell_type": "markdown",
   "source": [],
   "metadata": {
    "collapsed": false
   }
  },
  {
   "cell_type": "markdown",
   "metadata": {},
   "source": [
    "### **Exercise 3**\n",
    "Print the list `mylist` sorted in descending order. The original list should not be modified\n"
   ]
  },
  {
   "cell_type": "code",
   "execution_count": 38,
   "metadata": {},
   "outputs": [],
   "source": [
    "mylist=[1,-99,89,0,234,77,-748,11]"
   ]
  },
  {
   "cell_type": "code",
   "execution_count": 40,
   "outputs": [
    {
     "name": "stdout",
     "output_type": "stream",
     "text": [
      "[234, 89, 77, 11, 1, 0, -99, -748]\n",
      "[1, -99, 89, 0, 234, 77, -748, 11]\n"
     ]
    }
   ],
   "source": [
    "print(sorted(mylist, reverse=True))\n",
    "print(mylist)"
   ],
   "metadata": {
    "collapsed": false
   }
  },
  {
   "cell_type": "markdown",
   "metadata": {},
   "source": [
    "### **Exercise 4:**\n",
    "Given 2 lists, produce a list containing common items between the two."
   ]
  },
  {
   "cell_type": "code",
   "execution_count": 48,
   "outputs": [
    {
     "name": "stdout",
     "output_type": "stream",
     "text": [
      "[5, 6, 6]\n"
     ]
    }
   ],
   "source": [
    "list1 = [1,2,3,4,5,6,6]\n",
    "list2 = [9,8,7,6,6,5,6]\n",
    "\n",
    "commonElements = []\n",
    "for e in list1:\n",
    "    for s in list2:\n",
    "        if e == s:\n",
    "            commonElements.append(e)\n",
    "            list2.remove(s)\n",
    "            break\n",
    "\n",
    "print(commonElements)\n"
   ],
   "metadata": {
    "collapsed": false
   }
  },
  {
   "cell_type": "markdown",
   "metadata": {},
   "source": [
    "### **Exercise 5:**\n",
    "Create a function that returns a list of all pairs of factors (as tuples) of a given number using list comprehension."
   ]
  },
  {
   "cell_type": "code",
   "execution_count": 52,
   "outputs": [
    {
     "name": "stdout",
     "output_type": "stream",
     "text": [
      "[(1, 12), (2, 6), (3, 4), (4, 3), (6, 2), (12, 1)]\n"
     ]
    }
   ],
   "source": [
    "def findAllFactors(f):\n",
    "    return [(x,y) for x in range(f+1) for y in range(f+1) if x*y == f]\n",
    "\n",
    "print(findAllFactors(12))\n"
   ],
   "metadata": {
    "collapsed": false
   }
  },
  {
   "cell_type": "markdown",
   "metadata": {},
   "source": [
    "### **Exercise 6:**\n",
    "Create a list of all numbers divisible by 3 and smaller than 1000 in 4 different ways:\n",
    " \n",
    " - naive way where you just create a list and append data in a loop\n",
    " - using list comprehension\n",
    " - slicing an existing list\n",
    " - directly with `range()`\n",
    "\n",
    "Time all of them."
   ]
  },
  {
   "cell_type": "code",
   "execution_count": 70,
   "outputs": [],
   "source": [
    "import timeit"
   ],
   "metadata": {
    "collapsed": false
   }
  },
  {
   "cell_type": "code",
   "execution_count": 75,
   "outputs": [
    {
     "name": "stdout",
     "output_type": "stream",
     "text": [
      "0.000612471999374975\n",
      "0.00032792799993330846\n",
      "0.00029901500056439545\n",
      "0.00012435099961294327\n"
     ]
    }
   ],
   "source": [
    "## case 1\n",
    "start_time = timeit.default_timer()\n",
    "div3case1 = []\n",
    "for i in range(1001):\n",
    "    if i % 3 == 0:\n",
    "        div3case1.append(i)\n",
    "delta1 = timeit.default_timer() - start_time\n",
    "print(delta1)\n",
    "\n",
    "## case 2\n",
    "start_time = timeit.default_timer()\n",
    "div3case2 = [x for x in range(1001) if x % 3 == 0]\n",
    "delta2 = timeit.default_timer() - start_time\n",
    "print(delta2)\n",
    "\n",
    "\n",
    "# case 3\n",
    "start_time = timeit.default_timer()\n",
    "temp = [x for x in range(0, 1001)]\n",
    "div3case3 = temp[0:1001:3]\n",
    "delta3 = timeit.default_timer() - start_time\n",
    "print(delta3)\n",
    "\n",
    "# case 4\n",
    "start_time = timeit.default_timer()\n",
    "div3case4 = [x for x in range(0, 1001, 3)]\n",
    "delta4 = timeit.default_timer() - start_time\n",
    "print(delta4)\n",
    "\n"
   ],
   "metadata": {
    "collapsed": false
   }
  },
  {
   "cell_type": "markdown",
   "metadata": {},
   "source": [
    "### **Exercise 7:**\n",
    "Write a function to check if a string (containing spaces and capital letters, but no punctuation marks) is a palindrome (use help to see which functions are available for a string). \n"
   ]
  },
  {
   "cell_type": "code",
   "execution_count": 99,
   "outputs": [
    {
     "name": "stdout",
     "output_type": "stream",
     "text": [
      "True\n"
     ]
    }
   ],
   "source": [
    "\n",
    "def checkPalindrome(string):\n",
    "    l = 0\n",
    "    r = len(string)-1\n",
    "    output = True\n",
    "    while(l <= r):\n",
    "        if(string[l] != string[r]):\n",
    "            output = False\n",
    "            break\n",
    "        l+=1\n",
    "        r-=1\n",
    "    return output\n",
    "\n",
    "\n",
    "s = \"anna ; anna\"\n",
    "print(checkPalindrome(s))"
   ],
   "metadata": {
    "collapsed": false
   }
  },
  {
   "cell_type": "markdown",
   "metadata": {},
   "source": [
    "### **Exercise 8:**\n",
    "Write a function to find a character with a maximum number of occurences in a string. Return a tuple with that character and the number. You can ignore ties. Only use string's inbuilt functions and the function `max` (use help to see how to use it)."
   ]
  },
  {
   "cell_type": "code",
   "execution_count": 9,
   "outputs": [
    {
     "name": "stdout",
     "output_type": "stream",
     "text": [
      "('a', 3)\n"
     ]
    }
   ],
   "source": [
    "def findMaxRepetition(string):\n",
    "    maxRepetitions = 0\n",
    "    letterWithMaxRepetition = \"\"\n",
    "    for i in range(len(string)):\n",
    "        if string.count(string[i]) > maxRepetitions:\n",
    "            letterWithMaxRepetition = string[i]\n",
    "            maxRepetitions = string.count(string[i])\n",
    "    return letterWithMaxRepetition, maxRepetitions\n",
    "\n",
    "string = \"bcadaklapbo\"\n",
    "print(findMaxRepetition(string))\n"
   ],
   "metadata": {
    "collapsed": false
   }
  },
  {
   "cell_type": "markdown",
   "metadata": {},
   "source": [
    "### **Exercise 9:**\n",
    "Write a function that return the first N prime numbers using the Sieve of Eratosphenes algorithm\n",
    "\n",
    "https://en.wikipedia.org/wiki/Sieve_of_Eratosthenes"
   ]
  },
  {
   "cell_type": "code",
   "execution_count": 20,
   "metadata": {},
   "outputs": [
    {
     "name": "stdout",
     "output_type": "stream",
     "text": [
      "[2, 3, 5, 7, 11, 13, 17, 19, 23, 29, 31, 37, 41, 43, 47, 53, 59, 61, 67, 71, 73, 79, 83, 89, 97, 101, 103, 107, 109, 113, 127, 131, 137, 139, 149, 151, 157, 163, 167, 173, 179, 181, 191, 193, 197, 199, 211, 223, 227, 229, 233, 239, 241, 251, 257, 263, 269, 271, 277, 281, 283, 293, 307, 311, 313, 317, 331, 337, 347, 349, 353, 359, 367, 373, 379, 383, 389, 397, 401, 409, 419, 421, 431, 433, 439, 443, 449, 457, 461, 463, 467, 479, 487, 491, 499, 503, 509, 521, 523, 541, 547, 557, 563, 569, 571, 577, 587, 593, 599, 601, 607, 613, 617, 619, 631, 641, 643, 647, 653, 659, 661, 673, 677, 683, 691, 701, 709, 719, 727, 733, 739, 743, 751, 757, 761, 769, 773, 787, 797, 809, 811, 821, 823, 827, 829, 839, 853, 857, 859, 863, 877, 881, 883, 887, 907, 911, 919, 929, 937, 941, 947, 953, 967, 971, 977, 983, 991, 997]\n"
     ]
    }
   ],
   "source": [
    "def sieveOfEratosthenesAlgorithm(n : int):\n",
    "    output = [x for x in range(2, n+1)]\n",
    "    p = 2\n",
    "    primeFound = 1\n",
    "    while p < n+1:\n",
    "        for i in range(2 * p, n+1, p):\n",
    "            if i in output:\n",
    "                output.remove(i)\n",
    "        if primeFound-1 < len(output):\n",
    "            p = output[primeFound-1]\n",
    "            primeFound += 1\n",
    "        else:\n",
    "            break\n",
    "    return output\n",
    "\n",
    "print(sieveOfEratosthenesAlgorithm(1000))"
   ]
  },
  {
   "cell_type": "code",
   "execution_count": null,
   "outputs": [],
   "source": [],
   "metadata": {
    "collapsed": false
   }
  }
 ],
 "metadata": {
  "kernelspec": {
   "name": "python3",
   "language": "python",
   "display_name": "Python 3 (ipykernel)"
  },
  "language_info": {
   "codemirror_mode": {
    "name": "ipython",
    "version": 3
   },
   "file_extension": ".py",
   "mimetype": "text/x-python",
   "name": "python",
   "nbconvert_exporter": "python",
   "pygments_lexer": "ipython3",
   "version": "3.6.13"
  }
 },
 "nbformat": 4,
 "nbformat_minor": 4
}
