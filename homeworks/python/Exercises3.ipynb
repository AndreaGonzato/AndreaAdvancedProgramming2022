{
 "cells": [
  {
   "cell_type": "markdown",
   "id": "d11517f7-d25e-4ddd-8cf5-95cf809e8bb5",
   "metadata": {},
   "source": [
    "### **Exercise1:**\n",
    "\n",
    "Create your own class for complex numbers, just like you would in c++. Make sure all the arithmetic operations work (yes, this is another useless exercise to play with the syntax)."
   ]
  },
  {
   "cell_type": "code",
   "execution_count": 17,
   "metadata": {
    "collapsed": false
   },
   "outputs": [],
   "source": [
    "class Complex:\n",
    "\n",
    "    def __init__(self, real, imaginary):\n",
    "        self.real = real\n",
    "        self.imaginary = imaginary\n",
    "\n",
    "    def __add__(self, other):\n",
    "        return Complex(self.real + other.real, self.imaginary + other.imaginary)\n",
    "\n",
    "    def __mul__(self, other):\n",
    "        real = self.real*other.real - self.imaginary * other.imaginary\n",
    "        imaginary = self.real * other.imaginary + self.imaginary * other.real\n",
    "        return Complex(real, imaginary)\n",
    "\n",
    "    def __str__(self):\n",
    "        return \"Complex{real: \" + str(self.real) + \" ; imaginary: \" + str(self.imaginary) + \" }\"\n",
    "\n",
    "\n",
    "\n"
   ]
  },
  {
   "cell_type": "code",
   "execution_count": 19,
   "metadata": {
    "collapsed": false
   },
   "outputs": [
    {
     "name": "stdout",
     "output_type": "stream",
     "text": [
      "Complex{real: 10 ; imaginary: 10 }\n",
      "Complex{real: -8 ; imaginary: 44 }\n"
     ]
    }
   ],
   "source": [
    "c1 = Complex(2, 4)\n",
    "c2 = Complex(8, 6)\n",
    "print(c1+c2)\n",
    "print(c1*c2)\n"
   ]
  },
  {
   "cell_type": "markdown",
   "id": "ea29074e-7dd7-48c6-bfd9-03860cffc268",
   "metadata": {},
   "source": [
    "### **Exercise2:**\n",
    "\n",
    "Rewrite your jacobi solution from the previous exerxise set with classes (you can follow the same layout as the c++ solution)."
   ]
  },
  {
   "cell_type": "markdown",
   "id": "a3f9dbca-8146-41ae-a859-792866cd4419",
   "metadata": {},
   "source": [
    "### **Exercise3:**\n",
    "\n",
    "Write a `cython` module with a function that solves the quadratic equation (you don't need to use classes here for now)"
   ]
  },
  {
   "cell_type": "code",
   "execution_count": 2,
   "id": "9d2ac71a",
   "metadata": {},
   "outputs": [],
   "source": [
    "%load_ext Cython"
   ]
  },
  {
   "cell_type": "code",
   "execution_count": 36,
   "id": "ba24e38d",
   "metadata": {},
   "outputs": [],
   "source": [
    "%%cython\n",
    "\n",
    "from libc.math cimport sqrt\n",
    "from libc.math cimport complex\n",
    "\n",
    "def solveQuadraticEquation(double a, double b, double c):\n",
    "\n",
    "    cdef double delta =  b*b -4*a*c\n",
    "    \n",
    "    cdef complex x1 = 0\n",
    "    cdef complex x2 = 0\n",
    "\n",
    "    if delta >= 0:\n",
    "        x1 = -b/(2*a) + sqrt(delta)/(2*a)\n",
    "        x2 = -b/(2*a) - sqrt(delta)/(2*a)\n",
    "        \n",
    "    else:\n",
    "\n",
    "        x1 = -b/(2*a) + sqrt(-1* delta)/(2*a)*1j\n",
    "        x2 = -b/(2*a) - sqrt(-1* delta)/(2*a)*1j\n",
    "        \n",
    "    return x1, x2\n",
    "\n",
    "    "
   ]
  },
  {
   "cell_type": "code",
   "execution_count": 37,
   "id": "93cbf44a",
   "metadata": {},
   "outputs": [
    {
     "name": "stdout",
     "output_type": "stream",
     "text": [
      "((-1+1.4142135623730951j), (-1-1.4142135623730951j))\n"
     ]
    }
   ],
   "source": [
    "print(solveQuadraticEquation(1,2,3))"
   ]
  },
  {
   "cell_type": "markdown",
   "id": "00f9ee84-b578-4187-936a-225ddaef1f74",
   "metadata": {},
   "source": [
    "### **Exercise4:**\n",
    "\n",
    "Use `pibind` to call the c++ code for jacobi (from the the extra_exercises solutions) "
   ]
  },
  {
   "cell_type": "code",
   "execution_count": null,
   "id": "06510615-d3b2-45e7-83c5-92f32ed88332",
   "metadata": {},
   "outputs": [],
   "source": []
  }
 ],
 "metadata": {
  "kernelspec": {
   "display_name": "base",
   "language": "python",
   "name": "python3"
  },
  "language_info": {
   "codemirror_mode": {
    "name": "ipython",
    "version": 3
   },
   "file_extension": ".py",
   "mimetype": "text/x-python",
   "name": "python",
   "nbconvert_exporter": "python",
   "pygments_lexer": "ipython3",
   "version": "3.9.7"
  },
  "vscode": {
   "interpreter": {
    "hash": "7473d73b0517ab6f64aa731f2cb80c0acf19c95420055020da77d830c23b4531"
   }
  }
 },
 "nbformat": 4,
 "nbformat_minor": 5
}
