{
 "cells": [
  {
   "cell_type": "markdown",
   "metadata": {},
   "source": [
    "### **Exercise1:**\n",
    "\n",
    "Create a function returning the first N terms of the tailor series of the function without using the sympy `series` function."
   ]
  },
  {
   "cell_type": "code",
   "execution_count": 29,
   "metadata": {},
   "outputs": [],
   "source": [
    "import sympy as sp\n",
    "import math\n",
    "sp.init_printing(use_unicode=True)"
   ]
  },
  {
   "cell_type": "code",
   "execution_count": 40,
   "metadata": {},
   "outputs": [
    {
     "data": {
      "image/png": "[encoded data removed]",
      "text/latex": [
       "$\\displaystyle \\frac{x^{9}}{362880} - \\frac{x^{7}}{5040} + \\frac{x^{5}}{120} - \\frac{x^{3}}{6} + x$"
      ],
      "text/plain": [
       "   9       7      5    3    \n",
       "  x       x      x    x     \n",
       "────── - ──── + ─── - ── + x\n",
       "362880   5040   120   6     "
      ]
     },
     "execution_count": 40,
     "metadata": {},
     "output_type": "execute_result"
    }
   ],
   "source": [
    "def tylor(expr, x0, n):   \n",
    "\n",
    "    #0\n",
    "    output = expr.subs(x,x0)\n",
    "\n",
    "    for i in range(1, n):\n",
    "        diffi = sp.diff(expr, x, i)\n",
    "        output += diffi.subs(x, x0) / math.factorial(i)*(x-x0)**i\n",
    "    \n",
    "    return output\n",
    "\n",
    "\n",
    "\n",
    "x = sp.symbols('x')\n",
    "tylor(expr=sp.sin(x), n=10, x0=0)\n",
    "#tylor(expr=sp.cos(x), n=10, x0=0)"
   ]
  },
  {
   "cell_type": "markdown",
   "metadata": {},
   "source": [
    "### **Exercise2:**"
   ]
  },
  {
   "cell_type": "markdown",
   "metadata": {},
   "source": [
    "Create a decorator that checks if the passed array is empty and only calls the function if it's not"
   ]
  },
  {
   "cell_type": "markdown",
   "metadata": {},
   "source": [
    "### **Exercise3:**"
   ]
  },
  {
   "cell_type": "markdown",
   "metadata": {},
   "source": [
    "Create a decorator to time a function execution time. Hint: use `import time` and `time_point=time.time()`. You can check if it's correct by timing the `time.sleep` function."
   ]
  },
  {
   "cell_type": "markdown",
   "metadata": {},
   "source": [
    "### **Exercise4:**"
   ]
  },
  {
   "cell_type": "markdown",
   "metadata": {},
   "source": [
    "Create a decorator to plot a function over some fixed interval."
   ]
  },
  {
   "cell_type": "code",
   "execution_count": null,
   "metadata": {},
   "outputs": [],
   "source": []
  }
 ],
 "metadata": {
  "kernelspec": {
   "display_name": "base",
   "language": "python",
   "name": "python3"
  },
  "language_info": {
   "codemirror_mode": {
    "name": "ipython",
    "version": 3
   },
   "file_extension": ".py",
   "mimetype": "text/x-python",
   "name": "python",
   "nbconvert_exporter": "python",
   "pygments_lexer": "ipython3",
   "version": "3.9.7"
  },
  "vscode": {
   "interpreter": {
    "hash": "7473d73b0517ab6f64aa731f2cb80c0acf19c95420055020da77d830c23b4531"
   }
  }
 },
 "nbformat": 4,
 "nbformat_minor": 4
}
